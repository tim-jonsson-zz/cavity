{
  "nbformat": 4,
  "nbformat_minor": 0,
  "metadata": {
    "colab": {
      "provenance": []
    },
    "kernelspec": {
      "name": "python3",
      "display_name": "Python 3"
    },
    "language_info": {
      "name": "python"
    }
  },
  "cells": [
    {
      "cell_type": "code",
      "execution_count": 1,
      "metadata": {
        "id": "Z52ByQgMY48t"
      },
      "outputs": [],
      "source": [
        "import numpy as np\n",
        "import pandas as pd\n",
        "import matplotlib.pyplot as plt\n",
        "import matplotlib.cm as cm\n",
        "from matplotlib.colors import Normalize\n",
        "import matplotlib.animation as anim"
      ]
    },
    {
      "cell_type": "code",
      "source": [
        "def readRho(fname):\n",
        "  f1 = open(fname,'r')\n",
        "  lines = f1.readlines()\n",
        "  f1.close()\n",
        "  rho_t = []\n",
        "  for line in lines:\n",
        "    rho_s = line.split()\n",
        "    rhor = []\n",
        "    for rho in rho_s:\n",
        "      rhor.append(float(rho))\n",
        "    rho_t.append(rhor)\n",
        "  return np.array(rho_t)\n",
        "\n",
        "def convertRho(rho):\n",
        "  U=np.zeros((16,16))\n",
        "  dic=[1,2,3,5,9,6,4,7,10,13,11,8,12,14,15,16]\n",
        "  for (i,j) in enumerate(dic):\n",
        "    U[i,j-1]=1\n",
        "  return U @ rho.reshape(16,16).T @ U.T\n"
      ],
      "metadata": {
        "id": "GXoVgQ_BZNZC"
      },
      "execution_count": 2,
      "outputs": []
    },
    {
      "cell_type": "code",
      "source": [
        "rho_r_t = readRho('rho_real.txt')\n",
        "rho_i_t = readRho('rho_imag.txt')"
      ],
      "metadata": {
        "id": "aEdzdSSScdEk"
      },
      "execution_count": 13,
      "outputs": []
    },
    {
      "cell_type": "code",
      "source": [
        "Nt = rho_r_t.shape[0]\n",
        "plt.plot(np.arange(Nt)*0.5,rho_r_t[:,0])\n",
        "plt.plot(np.arange(Nt)*0.5,rho_r_t[:,1])\n",
        "plt.savefig('S0b_w2.0Da0.5_Delta1_alpha1.0_g0.1.png',dpi=300)\n",
        "plt.show()"
      ],
      "metadata": {
        "colab": {
          "base_uri": "https://localhost:8080/",
          "height": 430
        },
        "id": "uoGyqd8blPLp",
        "outputId": "d6858603-f5a0-49d4-ee1a-72f00ca76293"
      },
      "execution_count": 22,
      "outputs": [
        {
          "output_type": "display_data",
          "data": {
            "text/plain": [
              "<Figure size 640x480 with 1 Axes>"
            ],
            "image/png": "[encoded data removed]"
          },
          "metadata": {}
        }
      ]
    },
    {
      "cell_type": "code",
      "source": [
        "fig,ax = plt.subplots(2,2)\n",
        "ax[0,0].matshow(convertRho(rho_r_t[0]),cmap='bwr',vmax=1,vmin=-1)\n",
        "ax[0,1].matshow(convertRho(rho_i_t[0]),cmap='bwr',vmax=1,vmin=-1)\n",
        "ax[1,0].matshow(convertRho(rho_r_t[-1]),cmap='bwr',vmax=1,vmin=-1)\n",
        "ax[1,1].matshow(convertRho(rho_i_t[-1]),cmap='bwr',vmax=1,vmin=-1)\n",
        "\n",
        "for i in range(2):\n",
        "  for j in range(2):\n",
        "    ax[i,j].xaxis.set_ticks([])\n",
        "    ax[i,j].yaxis.set_ticks([])\n",
        "    ax[i,j].set_aspect(\"equal\")\n",
        "plt.show()"
      ],
      "metadata": {
        "colab": {
          "base_uri": "https://localhost:8080/",
          "height": 406
        },
        "id": "DD_UzNZ0c1TC",
        "outputId": "afad7159-17b0-4cdf-8b91-f800362218b3"
      },
      "execution_count": 5,
      "outputs": [
        {
          "output_type": "display_data",
          "data": {
            "text/plain": [
              "<Figure size 640x480 with 4 Axes>"
            ],
            "image/png": "[encoded data removed]"
          },
          "metadata": {}
        }
      ]
    },
    {
      "cell_type": "code",
      "source": [
        "fig,ax = plt.subplots(1,2)\n",
        "scr = ax[0].matshow(convertRho(rho_r_t[0]),cmap='bwr',vmax=1,vmin=-1)\n",
        "sci = ax[1].matshow(convertRho(rho_i_t[0]),cmap='bwr',vmax=1,vmin=-1)\n",
        "Nt = rho_r_t.shape[0]\n",
        "for i in range(2):\n",
        "  ax[i].xaxis.set_ticks([])\n",
        "  ax[i].yaxis.set_ticks([])\n",
        "  ax[i].set_aspect(\"equal\")\n",
        "ax[0].set_title('Re')\n",
        "ax[1].set_title('Im')\n",
        "cbar = fig.colorbar(scr,ax=ax,fraction=0.03,pad=0.08,\n",
        "                    orientation='horizontal',location='top')\n",
        "cbar.ax.xaxis.set_ticks([-1,-0.5,0,0.5,1])\n",
        "title = ax[0].text(1,17,'t=0', fontsize=16)\n",
        "def update(i):\n",
        "    scr.set_data(convertRho(rho_r_t[i]))\n",
        "    sci.set_data(convertRho(rho_i_t[i]))\n",
        "    title.set_text(f\"t={i*0.5:.1f}\")\n",
        "    return scr,sci,title\n",
        "\n",
        "interval=100 # milli seconds\n",
        "\n",
        "myanim = anim.FuncAnimation(fig, update, frames=Nt, interval=interval, blit=True)\n",
        "myanim.save(\"w1.0_DaSwoff0.5_gpsuperGsin1_2.0_1.mp4\", bitrate=-1, dpi=300,\n",
        "            extra_args=[\"-vcodec\", \"libx264\", \"-pix_fmt\", \"yuv420p\"],\n",
        "            savefig_kwargs={\"bbox_inches\":\"tight\",\"pad_inches\":0.01})"
      ],
      "metadata": {
        "colab": {
          "base_uri": "https://localhost:8080/",
          "height": 368
        },
        "id": "id6DvknvfjEO",
        "outputId": "5e3094ae-5b77-49f7-b5b3-0ae6eadbb959"
      },
      "execution_count": 14,
      "outputs": [
        {
          "output_type": "stream",
          "name": "stderr",
          "text": [
            "WARNING:matplotlib.animation:Warning: discarding the 'bbox_inches' argument in 'savefig_kwargs' as it may cause frame size to vary, which is inappropriate for animation.\n"
          ]
        },
        {
          "output_type": "display_data",
          "data": {
            "text/plain": [
              "<Figure size 640x480 with 3 Axes>"
            ],
            "image/png": "[encoded data removed]"
          },
          "metadata": {}
        }
      ]
    }
  ]
}